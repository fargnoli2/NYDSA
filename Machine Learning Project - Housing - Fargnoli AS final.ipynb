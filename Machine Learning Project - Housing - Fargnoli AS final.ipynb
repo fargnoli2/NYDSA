{
 "cells": [
  {
   "cell_type": "code",
   "execution_count": 469,
   "metadata": {},
   "outputs": [
    {
     "data": {
      "text/plain": [
       "Int64Index([1461, 1462, 1463, 1464, 1465, 1466, 1467, 1468, 1469, 1470,\n",
       "            ...\n",
       "            2910, 2911, 2912, 2913, 2914, 2915, 2916, 2917, 2918, 2919],\n",
       "           dtype='int64', name='Id', length=1459)"
      ]
     },
     "execution_count": 469,
     "metadata": {},
     "output_type": "execute_result"
    }
   ],
   "source": [
    "import pandas as pd\n",
    "import numpy as np\n",
    "%matplotlib inline\n",
    "import matplotlib.pyplot as plt\n",
    "#STEP 1:  Read in all data from file and check columns for x and y variables\n",
    "train = pd.read_csv('train.csv', index_col=0)\n",
    "test=pd.read_csv('test.csv',index_col=0)\n",
    "\n"
   ]
  },
  {
   "cell_type": "code",
   "execution_count": 409,
   "metadata": {},
   "outputs": [
    {
     "name": "stderr",
     "output_type": "stream",
     "text": [
      "/Users/fargnoli/opt/anaconda3/lib/python3.7/site-packages/ipykernel_launcher.py:4: FutureWarning: Passing a negative integer is deprecated in version 1.0 and will not be supported in future version. Instead, use None to not limit the column width.\n",
      "  after removing the cwd from sys.path.\n"
     ]
    },
    {
     "data": {
      "text/plain": [
       "MSSubClass       0   \n",
       "MSZoning         4   \n",
       "LotFrontage      227 \n",
       "LotArea          0   \n",
       "Street           0   \n",
       "Alley            1352\n",
       "LotShape         0   \n",
       "LandContour      0   \n",
       "Utilities        2   \n",
       "LotConfig        0   \n",
       "LandSlope        0   \n",
       "Neighborhood     0   \n",
       "Condition1       0   \n",
       "Condition2       0   \n",
       "BldgType         0   \n",
       "HouseStyle       0   \n",
       "OverallQual      0   \n",
       "OverallCond      0   \n",
       "YearBuilt        0   \n",
       "YearRemodAdd     0   \n",
       "RoofStyle        0   \n",
       "RoofMatl         0   \n",
       "Exterior1st      1   \n",
       "Exterior2nd      1   \n",
       "MasVnrType       16  \n",
       "MasVnrArea       15  \n",
       "ExterQual        0   \n",
       "ExterCond        0   \n",
       "Foundation       0   \n",
       "BsmtQual         44  \n",
       "BsmtCond         45  \n",
       "BsmtExposure     44  \n",
       "BsmtFinType1     42  \n",
       "BsmtFinSF1       1   \n",
       "BsmtFinType2     42  \n",
       "BsmtFinSF2       1   \n",
       "BsmtUnfSF        1   \n",
       "TotalBsmtSF      1   \n",
       "Heating          0   \n",
       "HeatingQC        0   \n",
       "CentralAir       0   \n",
       "Electrical       0   \n",
       "1stFlrSF         0   \n",
       "2ndFlrSF         0   \n",
       "LowQualFinSF     0   \n",
       "GrLivArea        0   \n",
       "BsmtFullBath     2   \n",
       "BsmtHalfBath     2   \n",
       "FullBath         0   \n",
       "HalfBath         0   \n",
       "BedroomAbvGr     0   \n",
       "KitchenAbvGr     0   \n",
       "KitchenQual      1   \n",
       "TotRmsAbvGrd     0   \n",
       "Functional       2   \n",
       "Fireplaces       0   \n",
       "FireplaceQu      730 \n",
       "GarageType       76  \n",
       "GarageYrBlt      78  \n",
       "GarageFinish     78  \n",
       "GarageCars       1   \n",
       "GarageArea       1   \n",
       "GarageQual       78  \n",
       "GarageCond       78  \n",
       "PavedDrive       0   \n",
       "WoodDeckSF       0   \n",
       "OpenPorchSF      0   \n",
       "EnclosedPorch    0   \n",
       "3SsnPorch        0   \n",
       "ScreenPorch      0   \n",
       "PoolArea         0   \n",
       "PoolQC           1456\n",
       "Fence            1169\n",
       "MiscFeature      1408\n",
       "MiscVal          0   \n",
       "MoSold           0   \n",
       "YrSold           0   \n",
       "SaleType         1   \n",
       "SaleCondition    0   \n",
       "dtype: int64"
      ]
     },
     "execution_count": 409,
     "metadata": {},
     "output_type": "execute_result"
    }
   ],
   "source": [
    "pd.set_option('display.max_rows', None)\n",
    "pd.set_option('display.max_columns', None)\n",
    "pd.set_option('display.width', None)\n",
    "pd.set_option('display.max_colwidth', -1)\n",
    "test.isna().sum()"
   ]
  },
  {
   "cell_type": "code",
   "execution_count": 410,
   "metadata": {},
   "outputs": [],
   "source": [
    "train1=train.drop(['Utilities','BsmtFinType1','BsmtCond','MasVnrArea','PoolQC', 'Fence','MiscFeature','FireplaceQu','Alley','LotFrontage','MSSubClass','GarageYrBlt','GarageQual','GarageCond','Street','Condition2','RoofStyle','RoofMatl','Exterior2nd','MasVnrType','BsmtFinSF2','Heating','CentralAir','Functional','GarageQual','GarageCond','SaleType','SaleCondition','GarageArea','GarageFinish','YearRemodAdd','BsmtUnfSF','GarageType','BsmtFinType2','BsmtExposure','BsmtQual','Electrical'], axis = 1) \n",
    "test1=  test.drop(['Utilities','BsmtFinType1','BsmtCond','MasVnrArea','PoolQC', 'Fence','MiscFeature','FireplaceQu','Alley','LotFrontage','MSSubClass','GarageYrBlt','GarageQual','GarageCond','Street','Condition2','RoofStyle','RoofMatl','Exterior2nd','MasVnrType','BsmtFinSF2','Heating','CentralAir','Functional','GarageQual','GarageCond','SaleType','SaleCondition','GarageArea','GarageFinish','YearRemodAdd','BsmtUnfSF','GarageType','BsmtFinType2','BsmtExposure','BsmtQual','Electrical'], axis = 1)"
   ]
  },
  {
   "cell_type": "code",
   "execution_count": 411,
   "metadata": {},
   "outputs": [
    {
     "data": {
      "text/plain": [
       "MSZoning         object \n",
       "LotArea          float64\n",
       "LotShape         object \n",
       "LandContour      object \n",
       "LotConfig        object \n",
       "LandSlope        object \n",
       "Neighborhood     object \n",
       "Condition1       object \n",
       "BldgType         object \n",
       "HouseStyle       object \n",
       "OverallQual      int64  \n",
       "OverallCond      int64  \n",
       "YearBuilt        int64  \n",
       "Exterior1st      object \n",
       "ExterQual        object \n",
       "ExterCond        object \n",
       "Foundation       object \n",
       "BsmtFinSF1       float64\n",
       "TotalBsmtSF      float64\n",
       "HeatingQC        object \n",
       "1stFlrSF         float64\n",
       "2ndFlrSF         float64\n",
       "LowQualFinSF     float64\n",
       "GrLivArea        float64\n",
       "BsmtFullBath     float64\n",
       "BsmtHalfBath     float64\n",
       "FullBath         int64  \n",
       "HalfBath         int64  \n",
       "BedroomAbvGr     int64  \n",
       "KitchenAbvGr     int64  \n",
       "KitchenQual      object \n",
       "TotRmsAbvGrd     int64  \n",
       "Fireplaces       int64  \n",
       "GarageCars       float64\n",
       "PavedDrive       object \n",
       "WoodDeckSF       int64  \n",
       "OpenPorchSF      int64  \n",
       "EnclosedPorch    int64  \n",
       "3SsnPorch        int64  \n",
       "ScreenPorch      int64  \n",
       "PoolArea         float64\n",
       "MiscVal          float64\n",
       "MoSold           int64  \n",
       "YrSold           int64  \n",
       "dtype: object"
      ]
     },
     "execution_count": 411,
     "metadata": {},
     "output_type": "execute_result"
    }
   ],
   "source": [
    "convert_dict_2 = {'LotArea': float,'BsmtFinSF1':float,'TotalBsmtSF':float, '1stFlrSF':float,'2ndFlrSF':float,'LowQualFinSF':float,'GrLivArea':float,\n",
    "               'PoolArea':float,'MiscVal':float,} \n",
    "  \n",
    "\n",
    "test1 = test1.astype(convert_dict_2)\n",
    "test1.dtypes\n"
   ]
  },
  {
   "cell_type": "code",
   "execution_count": 480,
   "metadata": {},
   "outputs": [
    {
     "data": {
      "text/plain": [
       "array([[<matplotlib.axes._subplots.AxesSubplot object at 0x7fae4856e350>,\n",
       "        <matplotlib.axes._subplots.AxesSubplot object at 0x7fae2f7f6d10>,\n",
       "        <matplotlib.axes._subplots.AxesSubplot object at 0x7fae2f7b1b10>,\n",
       "        <matplotlib.axes._subplots.AxesSubplot object at 0x7fae2fa5f950>,\n",
       "        <matplotlib.axes._subplots.AxesSubplot object at 0x7fae2faeff90>,\n",
       "        <matplotlib.axes._subplots.AxesSubplot object at 0x7fae2f6a4810>,\n",
       "        <matplotlib.axes._subplots.AxesSubplot object at 0x7fae2f437b10>],\n",
       "       [<matplotlib.axes._subplots.AxesSubplot object at 0x7fae2fa21e10>,\n",
       "        <matplotlib.axes._subplots.AxesSubplot object at 0x7fae2fa498d0>,\n",
       "        <matplotlib.axes._subplots.AxesSubplot object at 0x7fae2f77fd10>,\n",
       "        <matplotlib.axes._subplots.AxesSubplot object at 0x7fae2fc66750>,\n",
       "        <matplotlib.axes._subplots.AxesSubplot object at 0x7fae2fc83a50>,\n",
       "        <matplotlib.axes._subplots.AxesSubplot object at 0x7fae2fca1f90>,\n",
       "        <matplotlib.axes._subplots.AxesSubplot object at 0x7fae2fcc77d0>],\n",
       "       [<matplotlib.axes._subplots.AxesSubplot object at 0x7fae2fce3fd0>,\n",
       "        <matplotlib.axes._subplots.AxesSubplot object at 0x7fae2fd08810>,\n",
       "        <matplotlib.axes._subplots.AxesSubplot object at 0x7fae2fd31f90>,\n",
       "        <matplotlib.axes._subplots.AxesSubplot object at 0x7fae2fd73850>,\n",
       "        <matplotlib.axes._subplots.AxesSubplot object at 0x7fae2fdb1bd0>,\n",
       "        <matplotlib.axes._subplots.AxesSubplot object at 0x7fae2fde8890>,\n",
       "        <matplotlib.axes._subplots.AxesSubplot object at 0x7fae2fe27c10>],\n",
       "       [<matplotlib.axes._subplots.AxesSubplot object at 0x7fae2fe5f8d0>,\n",
       "        <matplotlib.axes._subplots.AxesSubplot object at 0x7fae2fe9dc50>,\n",
       "        <matplotlib.axes._subplots.AxesSubplot object at 0x7fae2fed5910>,\n",
       "        <matplotlib.axes._subplots.AxesSubplot object at 0x7fae2ff11c90>,\n",
       "        <matplotlib.axes._subplots.AxesSubplot object at 0x7fae2ff4a950>,\n",
       "        <matplotlib.axes._subplots.AxesSubplot object at 0x7fae2ff87cd0>,\n",
       "        <matplotlib.axes._subplots.AxesSubplot object at 0x7fae2ffbc990>],\n",
       "       [<matplotlib.axes._subplots.AxesSubplot object at 0x7fae2fffcd10>,\n",
       "        <matplotlib.axes._subplots.AxesSubplot object at 0x7fae300329d0>,\n",
       "        <matplotlib.axes._subplots.AxesSubplot object at 0x7fae30071d50>,\n",
       "        <matplotlib.axes._subplots.AxesSubplot object at 0x7fae300a8a10>,\n",
       "        <matplotlib.axes._subplots.AxesSubplot object at 0x7fae300e6d90>,\n",
       "        <matplotlib.axes._subplots.AxesSubplot object at 0x7fae3011da50>,\n",
       "        <matplotlib.axes._subplots.AxesSubplot object at 0x7fae3015add0>],\n",
       "       [<matplotlib.axes._subplots.AxesSubplot object at 0x7fae30192a90>,\n",
       "        <matplotlib.axes._subplots.AxesSubplot object at 0x7fae301d1e10>,\n",
       "        <matplotlib.axes._subplots.AxesSubplot object at 0x7fae30207ad0>,\n",
       "        <matplotlib.axes._subplots.AxesSubplot object at 0x7fae30245e50>,\n",
       "        <matplotlib.axes._subplots.AxesSubplot object at 0x7fae3027cb10>,\n",
       "        <matplotlib.axes._subplots.AxesSubplot object at 0x7fae302bce90>,\n",
       "        <matplotlib.axes._subplots.AxesSubplot object at 0x7fae302f2b50>],\n",
       "       [<matplotlib.axes._subplots.AxesSubplot object at 0x7fae30330ed0>,\n",
       "        <matplotlib.axes._subplots.AxesSubplot object at 0x7fae30367b90>,\n",
       "        <matplotlib.axes._subplots.AxesSubplot object at 0x7fae303a5f10>,\n",
       "        <matplotlib.axes._subplots.AxesSubplot object at 0x7fae30603bd0>,\n",
       "        <matplotlib.axes._subplots.AxesSubplot object at 0x7fae30641f50>,\n",
       "        <matplotlib.axes._subplots.AxesSubplot object at 0x7fae30677c10>,\n",
       "        <matplotlib.axes._subplots.AxesSubplot object at 0x7fae306b7f90>]],\n",
       "      dtype=object)"
      ]
     },
     "execution_count": 480,
     "metadata": {},
     "output_type": "execute_result"
    },
    {
     "data": {
      "image/png": "[encoded data removed]",
      "text/plain": [
       "<Figure size 1440x1080 with 49 Axes>"
      ]
     },
     "metadata": {
      "needs_background": "light"
     },
     "output_type": "display_data"
    }
   ],
   "source": [
    "test1.hist(bins=50, figsize=(20,15))"
   ]
  },
  {
   "cell_type": "code",
   "execution_count": 366,
   "metadata": {
    "scrolled": true
   },
   "outputs": [
    {
     "data": {
      "text/plain": [
       "MSZoning         object\n",
       "LotArea          int64 \n",
       "LotShape         object\n",
       "LandContour      object\n",
       "LotConfig        object\n",
       "LandSlope        object\n",
       "Neighborhood     object\n",
       "Condition1       object\n",
       "BldgType         object\n",
       "HouseStyle       object\n",
       "OverallQual      int64 \n",
       "OverallCond      int64 \n",
       "YearBuilt        int64 \n",
       "Exterior1st      object\n",
       "ExterQual        object\n",
       "ExterCond        object\n",
       "Foundation       object\n",
       "BsmtFinSF1       int64 \n",
       "TotalBsmtSF      int64 \n",
       "HeatingQC        object\n",
       "1stFlrSF         int64 \n",
       "2ndFlrSF         int64 \n",
       "LowQualFinSF     int64 \n",
       "GrLivArea        int64 \n",
       "BsmtFullBath     int64 \n",
       "BsmtHalfBath     int64 \n",
       "FullBath         int64 \n",
       "HalfBath         int64 \n",
       "BedroomAbvGr     int64 \n",
       "KitchenAbvGr     int64 \n",
       "KitchenQual      object\n",
       "TotRmsAbvGrd     int64 \n",
       "Fireplaces       int64 \n",
       "GarageCars       int64 \n",
       "PavedDrive       object\n",
       "WoodDeckSF       int64 \n",
       "OpenPorchSF      int64 \n",
       "EnclosedPorch    int64 \n",
       "3SsnPorch        int64 \n",
       "ScreenPorch      int64 \n",
       "PoolArea         int64 \n",
       "MiscVal          int64 \n",
       "MoSold           int64 \n",
       "YrSold           int64 \n",
       "SalePrice        int64 \n",
       "dtype: object"
      ]
     },
     "execution_count": 366,
     "metadata": {},
     "output_type": "execute_result"
    }
   ],
   "source": [
    "train1.dtypes"
   ]
  },
  {
   "cell_type": "code",
   "execution_count": 412,
   "metadata": {},
   "outputs": [
    {
     "data": {
      "text/plain": [
       "MSZoning         object \n",
       "LotArea          float64\n",
       "LotShape         object \n",
       "LandContour      object \n",
       "LotConfig        object \n",
       "LandSlope        object \n",
       "Neighborhood     object \n",
       "Condition1       object \n",
       "BldgType         object \n",
       "HouseStyle       object \n",
       "OverallQual      int64  \n",
       "OverallCond      int64  \n",
       "YearBuilt        int64  \n",
       "Exterior1st      object \n",
       "ExterQual        object \n",
       "ExterCond        object \n",
       "Foundation       object \n",
       "BsmtFinSF1       float64\n",
       "TotalBsmtSF      float64\n",
       "HeatingQC        object \n",
       "1stFlrSF         float64\n",
       "2ndFlrSF         float64\n",
       "LowQualFinSF     float64\n",
       "GrLivArea        float64\n",
       "BsmtFullBath     int64  \n",
       "BsmtHalfBath     int64  \n",
       "FullBath         int64  \n",
       "HalfBath         int64  \n",
       "BedroomAbvGr     int64  \n",
       "KitchenAbvGr     int64  \n",
       "KitchenQual      object \n",
       "TotRmsAbvGrd     int64  \n",
       "Fireplaces       int64  \n",
       "GarageCars       int64  \n",
       "PavedDrive       object \n",
       "WoodDeckSF       int64  \n",
       "OpenPorchSF      int64  \n",
       "EnclosedPorch    int64  \n",
       "3SsnPorch        int64  \n",
       "ScreenPorch      int64  \n",
       "PoolArea         float64\n",
       "MiscVal          float64\n",
       "MoSold           int64  \n",
       "YrSold           int64  \n",
       "SalePrice        float64\n",
       "dtype: object"
      ]
     },
     "execution_count": 412,
     "metadata": {},
     "output_type": "execute_result"
    }
   ],
   "source": [
    "import pandas as pd\n",
    "convert_dict = {'LotArea': float, \n",
    "                'BsmtFinSF1': float,'TotalBsmtSF':float,'1stFlrSF':float,'2ndFlrSF':float,'LowQualFinSF':float,'GrLivArea':float,'PoolArea':float,'MiscVal':float,'SalePrice':float\n",
    "               } \n",
    "\n",
    "\n",
    "train1 = train1.astype(convert_dict)\n",
    "train1.dtypes\n",
    "\n"
   ]
  },
  {
   "cell_type": "code",
   "execution_count": 428,
   "metadata": {},
   "outputs": [
    {
     "data": {
      "text/plain": [
       "MSZoning         4\n",
       "LotArea          0\n",
       "LotShape         0\n",
       "LandContour      0\n",
       "LotConfig        0\n",
       "LandSlope        0\n",
       "Neighborhood     0\n",
       "Condition1       0\n",
       "BldgType         0\n",
       "HouseStyle       0\n",
       "OverallQual      0\n",
       "OverallCond      0\n",
       "YearBuilt        0\n",
       "Exterior1st      1\n",
       "ExterQual        0\n",
       "ExterCond        0\n",
       "Foundation       0\n",
       "BsmtFinSF1       0\n",
       "TotalBsmtSF      0\n",
       "HeatingQC        0\n",
       "1stFlrSF         0\n",
       "2ndFlrSF         0\n",
       "LowQualFinSF     0\n",
       "GrLivArea        0\n",
       "BsmtFullBath     0\n",
       "BsmtHalfBath     0\n",
       "FullBath         0\n",
       "HalfBath         0\n",
       "BedroomAbvGr     0\n",
       "KitchenAbvGr     0\n",
       "KitchenQual      1\n",
       "TotRmsAbvGrd     0\n",
       "Fireplaces       0\n",
       "GarageCars       0\n",
       "PavedDrive       0\n",
       "WoodDeckSF       0\n",
       "OpenPorchSF      0\n",
       "EnclosedPorch    0\n",
       "3SsnPorch        0\n",
       "ScreenPorch      0\n",
       "PoolArea         0\n",
       "MiscVal          0\n",
       "MoSold           0\n",
       "YrSold           0\n",
       "dtype: int64"
      ]
     },
     "execution_count": 428,
     "metadata": {},
     "output_type": "execute_result"
    }
   ],
   "source": [
    "test1.isna().sum()"
   ]
  },
  {
   "cell_type": "code",
   "execution_count": 426,
   "metadata": {},
   "outputs": [],
   "source": [
    "test1['BsmtFinSF1'] = test1['BsmtFinSF1'].fillna(test1['BsmtFinSF1'].mean())\n",
    "test1['TotalBsmtSF'] = test1['TotalBsmtSF'].fillna(test1['TotalBsmtSF'].mean())\n",
    "test1['BsmtFullBath'] = test1['BsmtFullBath'].fillna(test1['BsmtFullBath'].mean())\n",
    "test1['BsmtHalfBath'] = test1['BsmtHalfBath'].fillna(test1['BsmtHalfBath'].mean())\n",
    "test1['BsmtFinSF1'] = test1['BsmtFinSF1'].fillna(test1['BsmtFinSF1'].mean())\n",
    "test1['GarageCars'] = test1['GarageCars'].fillna(test1['GarageCars'].mean())\n",
    "\n",
    "from sklearn import preprocessing\n",
    "lencoder = preprocessing.LabelEncoder()\n",
    "\n",
    "train1['MSZoning']    = lencoder.fit_transform(train1.MSZoning).reshape((-1,1))\n",
    "train1['LotShape']    = lencoder.fit_transform(train1.LotShape).reshape((-1,1))\n",
    "train1['LandContour']    = lencoder.fit_transform(train1.LandContour).reshape((-1,1))\n",
    "train1['LotConfig']    = lencoder.fit_transform(train1.LotConfig).reshape((-1,1))\n",
    "train1['LandSlope']    = lencoder.fit_transform(train1.LandSlope).reshape((-1,1))\n",
    "train1['Neighborhood']    = lencoder.fit_transform(train1.Neighborhood).reshape((-1,1))\n",
    "train1['Condition1']    = lencoder.fit_transform(train1.Condition1).reshape((-1,1))\n",
    "train1['BldgType']    = lencoder.fit_transform(train1.BldgType).reshape((-1,1))\n",
    "\n",
    "train1['HouseStyle']    = lencoder.fit_transform(train1.HouseStyle).reshape((-1,1))\n",
    "train1['Exterior1st']    = lencoder.fit_transform(train1.Exterior1st).reshape((-1,1))\n",
    "train1['ExterQual']    = lencoder.fit_transform(train1.ExterQual).reshape((-1,1))\n",
    "train1['ExterCond']    = lencoder.fit_transform(train1.ExterCond).reshape((-1,1))\n",
    "\n",
    "train1['Foundation']    = lencoder.fit_transform(train1.Foundation).reshape((-1,1))\n",
    "train1['HeatingQC']    = lencoder.fit_transform(train1.HeatingQC).reshape((-1,1))\n",
    "train1['ExterQual']    = lencoder.fit_transform(train1.ExterQual).reshape((-1,1))\n",
    "train1['ExterCond']    = lencoder.fit_transform(train1.ExterCond).reshape((-1,1))\n",
    "\n",
    "train1['KitchenQual']    = lencoder.fit_transform(train1.KitchenQual).reshape((-1,1))\n",
    "train1['PavedDrive']    = lencoder.fit_transform(train1.PavedDrive).reshape((-1,1))\n",
    "\n",
    "\n",
    "\n",
    "\n"
   ]
  },
  {
   "cell_type": "code",
   "execution_count": 429,
   "metadata": {},
   "outputs": [
    {
     "data": {
      "text/plain": [
       "MSZoning         0\n",
       "LotArea          0\n",
       "LotShape         0\n",
       "LandContour      0\n",
       "LotConfig        0\n",
       "LandSlope        0\n",
       "Neighborhood     0\n",
       "Condition1       0\n",
       "BldgType         0\n",
       "HouseStyle       0\n",
       "OverallQual      0\n",
       "OverallCond      0\n",
       "YearBuilt        0\n",
       "Exterior1st      0\n",
       "ExterQual        0\n",
       "ExterCond        0\n",
       "Foundation       0\n",
       "BsmtFinSF1       0\n",
       "TotalBsmtSF      0\n",
       "HeatingQC        0\n",
       "1stFlrSF         0\n",
       "2ndFlrSF         0\n",
       "LowQualFinSF     0\n",
       "GrLivArea        0\n",
       "BsmtFullBath     0\n",
       "BsmtHalfBath     0\n",
       "FullBath         0\n",
       "HalfBath         0\n",
       "BedroomAbvGr     0\n",
       "KitchenAbvGr     0\n",
       "KitchenQual      0\n",
       "TotRmsAbvGrd     0\n",
       "Fireplaces       0\n",
       "GarageCars       0\n",
       "PavedDrive       0\n",
       "WoodDeckSF       0\n",
       "OpenPorchSF      0\n",
       "EnclosedPorch    0\n",
       "3SsnPorch        0\n",
       "ScreenPorch      0\n",
       "PoolArea         0\n",
       "MiscVal          0\n",
       "MoSold           0\n",
       "YrSold           0\n",
       "dtype: int64"
      ]
     },
     "execution_count": 429,
     "metadata": {},
     "output_type": "execute_result"
    }
   ],
   "source": [
    "test1 = test1.fillna(test1['MSZoning'].value_counts().index[0])\n",
    "test1 = test1.fillna(test1['Exterior1st'].value_counts().index[0])\n",
    "test1 = test1.fillna(test1['KitchenQual'].value_counts().index[0])\n",
    "test1.isna().sum()"
   ]
  },
  {
   "cell_type": "code",
   "execution_count": 433,
   "metadata": {},
   "outputs": [
    {
     "data": {
      "text/plain": [
       "MSZoning         int64  \n",
       "LotArea          float64\n",
       "LotShape         int64  \n",
       "LandContour      int64  \n",
       "LotConfig        int64  \n",
       "LandSlope        int64  \n",
       "Neighborhood     int64  \n",
       "Condition1       int64  \n",
       "BldgType         int64  \n",
       "HouseStyle       int64  \n",
       "OverallQual      int64  \n",
       "OverallCond      int64  \n",
       "YearBuilt        int64  \n",
       "Exterior1st      int64  \n",
       "ExterQual        int64  \n",
       "ExterCond        int64  \n",
       "Foundation       int64  \n",
       "BsmtFinSF1       float64\n",
       "TotalBsmtSF      float64\n",
       "HeatingQC        int64  \n",
       "1stFlrSF         float64\n",
       "2ndFlrSF         float64\n",
       "LowQualFinSF     float64\n",
       "GrLivArea        float64\n",
       "BsmtFullBath     int64  \n",
       "BsmtHalfBath     int64  \n",
       "FullBath         int64  \n",
       "HalfBath         int64  \n",
       "BedroomAbvGr     int64  \n",
       "KitchenAbvGr     int64  \n",
       "KitchenQual      int64  \n",
       "TotRmsAbvGrd     int64  \n",
       "Fireplaces       int64  \n",
       "GarageCars       int64  \n",
       "PavedDrive       int64  \n",
       "WoodDeckSF       int64  \n",
       "OpenPorchSF      int64  \n",
       "EnclosedPorch    int64  \n",
       "3SsnPorch        int64  \n",
       "ScreenPorch      int64  \n",
       "PoolArea         float64\n",
       "MiscVal          float64\n",
       "MoSold           int64  \n",
       "YrSold           int64  \n",
       "dtype: object"
      ]
     },
     "execution_count": 433,
     "metadata": {},
     "output_type": "execute_result"
    }
   ],
   "source": [
    "test1['MSZoning']    = lencoder.fit_transform(test1.MSZoning).reshape((-1,1))\n",
    "test1['LotShape']    = lencoder.fit_transform(test1.LotShape).reshape((-1,1))\n",
    "test1['LandContour']    = lencoder.fit_transform(test1.LandContour).reshape((-1,1))\n",
    "test1['LotConfig']    = lencoder.fit_transform(test1.LotConfig).reshape((-1,1))\n",
    "test1['LandSlope']    = lencoder.fit_transform(test1.LandSlope).reshape((-1,1))\n",
    "test1['Neighborhood']    = lencoder.fit_transform(test1.Neighborhood).reshape((-1,1))\n",
    "test1['Condition1']    = lencoder.fit_transform(test1.Condition1).reshape((-1,1))\n",
    "test1['BldgType']    = lencoder.fit_transform(test1.BldgType).reshape((-1,1))\n",
    "\n",
    "test1['HouseStyle']    = lencoder.fit_transform(test1.HouseStyle).reshape((-1,1))\n",
    "test1['Exterior1st']    = lencoder.fit_transform(test1.Exterior1st).reshape((-1,1))\n",
    "test1['ExterQual']    = lencoder.fit_transform(test1.ExterQual).reshape((-1,1))\n",
    "test1['ExterCond']    = lencoder.fit_transform(test1.ExterCond).reshape((-1,1))\n",
    "\n",
    "test1['Foundation']    = lencoder.fit_transform(test1.Foundation).reshape((-1,1))\n",
    "test1['HeatingQC']    = lencoder.fit_transform(test1.HeatingQC).reshape((-1,1))\n",
    "test1['ExterQual']    = lencoder.fit_transform(test1.ExterQual).reshape((-1,1))\n",
    "test1['ExterCond']    = lencoder.fit_transform(test1.ExterCond).reshape((-1,1))\n",
    "\n",
    "test1['KitchenQual']    = lencoder.fit_transform(test1.KitchenQual).reshape((-1,1))\n",
    "test1['PavedDrive']    = lencoder.fit_transform(test1.PavedDrive).reshape((-1,1))\n",
    "\n",
    "convert_dict_2 = {'BsmtFullBath': int, 'BsmtHalfBath':int,'GarageCars':int}\n",
    "\n",
    "\n",
    "test1 = test1.astype(convert_dict_2)\n",
    "test1.dtypes\n",
    "\n"
   ]
  },
  {
   "cell_type": "code",
   "execution_count": 434,
   "metadata": {},
   "outputs": [],
   "source": [
    "features=train1.drop(['SalePrice'],axis=1)\n",
    "target=train1.SalePrice\n",
    "\n",
    "from sklearn.model_selection import train_test_split\n",
    "\n",
    "X_train, X_test, y_train, y_test = train_test_split(features, target, test_size=0.25, random_state=1)\n"
   ]
  },
  {
   "cell_type": "code",
   "execution_count": 515,
   "metadata": {},
   "outputs": [
    {
     "name": "stdout",
     "output_type": "stream",
     "text": [
      "The Training Score is 0.962\n",
      "The Testing Score is 0.930\n"
     ]
    },
    {
     "data": {
      "text/plain": [
       "[('OverallQual', 0.4877293591456269),\n",
       " ('GrLivArea', 0.1458266036838887),\n",
       " ('GarageCars', 0.05735656698032001),\n",
       " ('TotalBsmtSF', 0.057196425404087974),\n",
       " ('YearBuilt', 0.0332648903129369),\n",
       " ('BsmtFinSF1', 0.03149269406083042),\n",
       " ('LotArea', 0.027100399283736976),\n",
       " ('1stFlrSF', 0.026908758389560018),\n",
       " ('2ndFlrSF', 0.026516675580561977),\n",
       " ('KitchenQual', 0.022323124396093887),\n",
       " ('ExterQual', 0.014183609202403103),\n",
       " ('Fireplaces', 0.011625676961565213),\n",
       " ('FullBath', 0.011539854167031488),\n",
       " ('Neighborhood', 0.008711365499428018),\n",
       " ('OverallCond', 0.008646488658463831),\n",
       " ('OpenPorchSF', 0.0055377883353416495),\n",
       " ('ScreenPorch', 0.003603100616354854),\n",
       " ('LandContour', 0.003179280688249815),\n",
       " ('MSZoning', 0.0029292852153909336),\n",
       " ('TotRmsAbvGrd', 0.002287463165521871),\n",
       " ('Condition1', 0.0017462688643056629),\n",
       " ('WoodDeckSF', 0.0014759624349574827),\n",
       " ('KitchenAbvGr', 0.0011802343837625368),\n",
       " ('BedroomAbvGr', 0.001083972795450411),\n",
       " ('LotShape', 0.0010670703680019337),\n",
       " ('BldgType', 0.000855779930755822),\n",
       " ('BsmtFullBath', 0.0007648691904008111),\n",
       " ('MoSold', 0.0007555241370924681),\n",
       " ('LandSlope', 0.000620027222546602),\n",
       " ('Exterior1st', 0.00043443024847539176),\n",
       " ('PoolArea', 0.000401202464403668),\n",
       " ('HeatingQC', 0.00036676882372335446),\n",
       " ('HouseStyle', 0.0002952285793926002),\n",
       " ('YrSold', 0.00024918455967202596),\n",
       " ('HalfBath', 0.00022438391158510705),\n",
       " ('ExterCond', 0.00014701245763974467),\n",
       " ('LowQualFinSF', 0.00013395086133233903),\n",
       " ('EnclosedPorch', 0.00011154032083988342),\n",
       " ('LotConfig', 6.61429843883035e-05),\n",
       " ('BsmtHalfBath', 3.9826758400840576e-05),\n",
       " ('PavedDrive', 2.1208955478705183e-05),\n",
       " ('Foundation', 0.0),\n",
       " ('3SsnPorch', 0.0),\n",
       " ('MiscVal', 0.0)]"
      ]
     },
     "execution_count": 515,
     "metadata": {},
     "output_type": "execute_result"
    }
   ],
   "source": [
    "%matplotlib inline\n",
    "import matplotlib.pyplot as plt\n",
    "import numpy as np\n",
    "import pandas as pd\n",
    "from sklearn.ensemble import GradientBoostingRegressor\n",
    "\n",
    "gbm = GradientBoostingRegressor()\n",
    "boost=gbm.fit(X_train, y_train)\n",
    "print('The Training Score is %.3f' %(gbm.score(X_train, y_train)))\n",
    "print('The Testing Score is %.3f' %(gbm.score(X_test, y_test)))\n",
    "\n",
    "sorted(zip(features.columns, gbm.feature_importances_), key=lambda t:t[1], reverse=True)\n"
   ]
  },
  {
   "cell_type": "code",
   "execution_count": 516,
   "metadata": {},
   "outputs": [
    {
     "data": {
      "text/plain": [
       "array([0.84114232, 0.85495313, 0.7733961 , 0.85166659, 0.91937407])"
      ]
     },
     "execution_count": 516,
     "metadata": {},
     "output_type": "execute_result"
    }
   ],
   "source": [
    "from sklearn.model_selection import cross_val_score\n",
    "cross_val_score(gbm, X_train,y_train, cv=5)\n",
    "## good metric overfitting"
   ]
  },
  {
   "cell_type": "code",
   "execution_count": 511,
   "metadata": {},
   "outputs": [
    {
     "data": {
      "text/plain": [
       "11912.637678525296"
      ]
     },
     "execution_count": 511,
     "metadata": {},
     "output_type": "execute_result"
    }
   ],
   "source": [
    "from sklearn.metrics import explained_variance_score\n",
    "Y=boost.predict(features)\n",
    "explained_variance_score(train1.SalePrice, Y, multioutput='raw_values')\n",
    "\n",
    "from sklearn.metrics import r2_score\n",
    "r2_score(train1.SalePrice, Y, multioutput='uniform_average')\n",
    "\n",
    "from sklearn.metrics import mean_absolute_error\n",
    "mean_absolute_error(train1.SalePrice,Y)\n",
    "\n",
    "            \n",
    "            "
   ]
  },
  {
   "cell_type": "code",
   "execution_count": 393,
   "metadata": {},
   "outputs": [
    {
     "data": {
      "text/plain": [
       "dict_keys(['explained_variance', 'r2', 'max_error', 'neg_median_absolute_error', 'neg_mean_absolute_error', 'neg_mean_squared_error', 'neg_mean_squared_log_error', 'neg_root_mean_squared_error', 'neg_mean_poisson_deviance', 'neg_mean_gamma_deviance', 'accuracy', 'roc_auc', 'roc_auc_ovr', 'roc_auc_ovo', 'roc_auc_ovr_weighted', 'roc_auc_ovo_weighted', 'balanced_accuracy', 'average_precision', 'neg_log_loss', 'neg_brier_score', 'adjusted_rand_score', 'homogeneity_score', 'completeness_score', 'v_measure_score', 'mutual_info_score', 'adjusted_mutual_info_score', 'normalized_mutual_info_score', 'fowlkes_mallows_score', 'precision', 'precision_macro', 'precision_micro', 'precision_samples', 'precision_weighted', 'recall', 'recall_macro', 'recall_micro', 'recall_samples', 'recall_weighted', 'f1', 'f1_macro', 'f1_micro', 'f1_samples', 'f1_weighted', 'jaccard', 'jaccard_macro', 'jaccard_micro', 'jaccard_samples', 'jaccard_weighted'])"
      ]
     },
     "execution_count": 393,
     "metadata": {},
     "output_type": "execute_result"
    }
   ],
   "source": [
    "sklearn.metrics.SCORERS.keys() ## saved"
   ]
  },
  {
   "cell_type": "code",
   "execution_count": 407,
   "metadata": {},
   "outputs": [
    {
     "name": "stdout",
     "output_type": "stream",
     "text": [
      "\n",
      "========================================================\n",
      " Results from Grid Search \n",
      "========================================================\n",
      "\n",
      " The best estimator across ALL searched params:\n",
      " GradientBoostingRegressor(alpha=0.9, ccp_alpha=0.0, criterion='friedman_mse',\n",
      "                          init=None, learning_rate=0.03, loss='ls', max_depth=6,\n",
      "                          max_features=None, max_leaf_nodes=None,\n",
      "                          min_impurity_decrease=0.0, min_impurity_split=None,\n",
      "                          min_samples_leaf=1, min_samples_split=2,\n",
      "                          min_weight_fraction_leaf=0.0, n_estimators=500,\n",
      "                          n_iter_no_change=None, presort='deprecated',\n",
      "                          random_state=None, subsample=0.5, tol=0.0001,\n",
      "                          validation_fraction=0.1, verbose=0, warm_start=False)\n",
      "\n",
      " The best score across ALL searched params:\n",
      " 0.8687257940501482\n",
      "\n",
      " The best parameters across ALL searched params:\n",
      " {'learning_rate': 0.03, 'max_depth': 6, 'n_estimators': 500, 'subsample': 0.5}\n",
      "\n",
      " ========================================================\n"
     ]
    }
   ],
   "source": [
    "from sklearn.model_selection import GridSearchCV\n",
    "\n",
    "boost = GradientBoostingRegressor()\n",
    "parameters = {'learning_rate': [0.01,0.02,0.03],\n",
    "                  'subsample'    : [0.9, 0.5, 0.2],\n",
    "                  'n_estimators' : [100,500,1000],\n",
    "                  'max_depth'    : [4,6,8]\n",
    "                 }\n",
    "grid = GridSearchCV(estimator=boost, param_grid = parameters, cv = 5, n_jobs=-1)\n",
    "grid.fit(X_train, y_train)\n",
    "\n",
    "    # Results from Grid Search\n",
    "print(\"\\n========================================================\")\n",
    "print(\" Results from Grid Search \" )\n",
    "print(\"========================================================\")\n",
    "print(\"\\n The best estimator across ALL searched params:\\n\",\n",
    "          grid.best_estimator_)\n",
    "print(\"\\n The best score across ALL searched params:\\n\",\n",
    "          grid.best_score_)\n",
    "print(\"\\n The best parameters across ALL searched params:\\n\",\n",
    "          grid.best_params_)\n",
    "print(\"\\n ========================================================\")"
   ]
  },
  {
   "cell_type": "code",
   "execution_count": 519,
   "metadata": {},
   "outputs": [
    {
     "name": "stdout",
     "output_type": "stream",
     "text": [
      "The Friedman_MSE on the  training data is 0.998\n",
      "The Friedman_MSE on the test data is 0.924\n"
     ]
    },
    {
     "data": {
      "text/plain": [
       "[('OverallQual', 0.14471587922967497),\n",
       " ('GrLivArea', 0.11851858124286388),\n",
       " ('ExterQual', 0.08545406813704338),\n",
       " ('TotalBsmtSF', 0.08308420400688572),\n",
       " ('GarageCars', 0.08129439906946702),\n",
       " ('YearBuilt', 0.05259058831073286),\n",
       " ('FullBath', 0.05245474540526278),\n",
       " ('1stFlrSF', 0.048267085912680516),\n",
       " ('BsmtFinSF1', 0.04544276425388854),\n",
       " ('LotArea', 0.03742499662899613),\n",
       " ('KitchenQual', 0.03536025676082719),\n",
       " ('2ndFlrSF', 0.028929776122335108),\n",
       " ('Fireplaces', 0.024372398428322197),\n",
       " ('Foundation', 0.02071006879400414),\n",
       " ('OpenPorchSF', 0.017767820031488368),\n",
       " ('TotRmsAbvGrd', 0.016339952924849084),\n",
       " ('Neighborhood', 0.015303004788323313),\n",
       " ('OverallCond', 0.008846876398054536),\n",
       " ('WoodDeckSF', 0.007895319881128599),\n",
       " ('MoSold', 0.007437402930098536),\n",
       " ('MSZoning', 0.006470379827137834),\n",
       " ('BsmtFullBath', 0.005139937365407356),\n",
       " ('KitchenAbvGr', 0.005047716129336),\n",
       " ('BedroomAbvGr', 0.00482340062281858),\n",
       " ('LotShape', 0.004704325294176141),\n",
       " ('LandContour', 0.004377197186776032),\n",
       " ('BldgType', 0.004184792957996746),\n",
       " ('HeatingQC', 0.0041321808093341345),\n",
       " ('Exterior1st', 0.00368300840352422),\n",
       " ('BsmtHalfBath', 0.0036810572578710003),\n",
       " ('HalfBath', 0.0031276749954405087),\n",
       " ('HouseStyle', 0.0030474111502111134),\n",
       " ('ScreenPorch', 0.0028032128709624014),\n",
       " ('LandSlope', 0.0024511808429539803),\n",
       " ('PavedDrive', 0.0018692648271923969),\n",
       " ('YrSold', 0.0017254854211525069),\n",
       " ('EnclosedPorch', 0.0015855597724225982),\n",
       " ('Condition1', 0.001502123310896459),\n",
       " ('LotConfig', 0.0010150700247513985),\n",
       " ('ExterCond', 0.000937598209920031),\n",
       " ('3SsnPorch', 0.0007028084121559319),\n",
       " ('LowQualFinSF', 0.0003572193278278452),\n",
       " ('MiscVal', 0.00023519135948678907),\n",
       " ('PoolArea', 0.00018601436332117116)]"
      ]
     },
     "execution_count": 519,
     "metadata": {},
     "output_type": "execute_result"
    }
   ],
   "source": [
    "#Updated Gradient boost Model with new parameters\n",
    "import matplotlib.pyplot as plt\n",
    "import numpy as np\n",
    "import pandas as pd\n",
    "from sklearn.ensemble import GradientBoostingRegressor\n",
    "\n",
    "gbmrev_1 = GradientBoostingRegressor(learning_rate=0.03, n_estimators=500,max_depth=6, min_samples_split=2, min_samples_leaf=1, subsample=1,max_features='sqrt', random_state=10)\n",
    "gbmrev_1.fit(X_train,y_train)\n",
    "\n",
    "print('The Friedman_MSE on the  training data is %.3f' %(gbmrev_1.score(X_train, y_train)))\n",
    "print('The Friedman_MSE on the test data is %.3f' %(gbmrev_1.score(X_test, y_test)))\n",
    "sorted(zip(X_train.columns, gbmrev_1.feature_importances_), key=lambda t:t[1], reverse=True)\n",
    "\n"
   ]
  },
  {
   "cell_type": "code",
   "execution_count": 520,
   "metadata": {},
   "outputs": [
    {
     "data": {
      "text/plain": [
       "array([0.88476961, 0.88683934, 0.80215266, 0.83565457, 0.9134895 ])"
      ]
     },
     "execution_count": 520,
     "metadata": {},
     "output_type": "execute_result"
    }
   ],
   "source": [
    "from sklearn.model_selection import cross_val_score\n",
    "cross_val_score(gbmrev_1, X_train,y_train, cv=5)"
   ]
  },
  {
   "cell_type": "code",
   "execution_count": 535,
   "metadata": {},
   "outputs": [
    {
     "data": {
      "text/plain": [
       "<BarContainer object of 44 artists>"
      ]
     },
     "execution_count": 535,
     "metadata": {},
     "output_type": "execute_result"
    },
    {
     "data": {
      "image/png": "[encoded data removed]",
      "text/plain": [
       "<Figure size 1440x864 with 1 Axes>"
      ]
     },
     "metadata": {
      "needs_background": "light"
     },
     "output_type": "display_data"
    }
   ],
   "source": [
    "import matplotlib.pyplot as plt\n",
    "import pandas as pd\n",
    "\n",
    "df=pd.DataFrame(sorted(zip(X_train.columns, gbmrev_1.feature_importances_), key=lambda t:t[1], reverse=True))\n",
    "lang=df.iloc[:, 0]\n",
    "use=df.iloc[:,1]\n",
    "plt.figure(figsize=(20,12))\n",
    "plt.barh(lang, use, align='center', alpha=0.7, color='b')\n"
   ]
  },
  {
   "cell_type": "code",
   "execution_count": 173,
   "metadata": {},
   "outputs": [
    {
     "data": {
      "text/plain": [
       "0.8645811359930929"
      ]
     },
     "execution_count": 173,
     "metadata": {},
     "output_type": "execute_result"
    }
   ],
   "source": [
    "from statistics import mean\n",
    "from sklearn.model_selection import cross_val_score\n",
    "scores = cross_val_score(gbmrev_1, X_train, y_train, cv=5)\n",
    "mean(scores)"
   ]
  },
  {
   "cell_type": "code",
   "execution_count": 453,
   "metadata": {},
   "outputs": [
    {
     "data": {
      "text/plain": [
       "array([121678.67519583, 167845.0941585 , 180475.62336096, ...,\n",
       "       168979.95307493, 124935.10940246, 213068.35049132])"
      ]
     },
     "execution_count": 453,
     "metadata": {},
     "output_type": "execute_result"
    }
   ],
   "source": [
    "## Final answer to enter in Kaggle - new input ran through the optimized model.\n",
    "gbmrev_1.predict(test1)\n"
   ]
  },
  {
   "cell_type": "code",
   "execution_count": 488,
   "metadata": {},
   "outputs": [],
   "source": [
    "# RANDOM FOREST MACHINE LEARNING ALGORITHM\n",
    "\n",
    "import pandas as pd\n",
    "import numpy as np\n",
    "import matplotlib.pyplot as plt\n",
    "import sklearn.model_selection as ms\n",
    "from sklearn.model_selection import train_test_split\n",
    "\n",
    "from sklearn import ensemble\n",
    "randomForest = ensemble.RandomForestRegressor()\n",
    "randomForest.set_params(random_state=0)\n",
    "\n",
    "from sklearn.model_selection import train_test_split\n",
    "\n",
    "X_train, X_test, y_train, y_test = train_test_split(features, target, test_size=0.25, random_state=1)\n",
    "\n",
    "tree_model=randomForest.fit(X_train, y_train) \n",
    "\n",
    "\n",
    "\n",
    "\n"
   ]
  },
  {
   "cell_type": "code",
   "execution_count": 503,
   "metadata": {},
   "outputs": [
    {
     "name": "stdout",
     "output_type": "stream",
     "text": [
      "The training score is: 0.97613\n",
      "The test score is: 0.91970\n"
     ]
    }
   ],
   "source": [
    "print(\"The training score is: %.5f\" % (tree_model.score(X_train,y_train)))\n",
    "print(\"The test score is: %.5f\" % (tree_model.score(X_test,y_test)))\n"
   ]
  },
  {
   "cell_type": "code",
   "execution_count": 504,
   "metadata": {},
   "outputs": [
    {
     "name": "stdout",
     "output_type": "stream",
     "text": [
      "Parameters currently in use:\n",
      "\n",
      "{'bootstrap': True,\n",
      " 'ccp_alpha': 0.0,\n",
      " 'criterion': 'mse',\n",
      " 'max_depth': None,\n",
      " 'max_features': 'auto',\n",
      " 'max_leaf_nodes': None,\n",
      " 'max_samples': None,\n",
      " 'min_impurity_decrease': 0.0,\n",
      " 'min_impurity_split': None,\n",
      " 'min_samples_leaf': 1,\n",
      " 'min_samples_split': 2,\n",
      " 'min_weight_fraction_leaf': 0.0,\n",
      " 'n_estimators': 100,\n",
      " 'n_jobs': None,\n",
      " 'oob_score': False,\n",
      " 'random_state': 0,\n",
      " 'verbose': 0,\n",
      " 'warm_start': False}\n"
     ]
    }
   ],
   "source": [
    "from pprint import pprint# Look at parameters used by our current forest\n",
    "print('Parameters currently in use:\\n')\n",
    "pprint(tree_model.get_params())\n",
    "\n"
   ]
  },
  {
   "cell_type": "code",
   "execution_count": 505,
   "metadata": {},
   "outputs": [
    {
     "data": {
      "text/plain": [
       "0.8273844927306431"
      ]
     },
     "execution_count": 505,
     "metadata": {},
     "output_type": "execute_result"
    }
   ],
   "source": [
    "from statistics import mean\n",
    "from sklearn.model_selection import cross_val_score\n",
    "scores = cross_val_score(tree_model, X_train, y_train, cv=5)\n",
    "mean(scores)\n"
   ]
  },
  {
   "cell_type": "code",
   "execution_count": 53,
   "metadata": {},
   "outputs": [
    {
     "name": "stdout",
     "output_type": "stream",
     "text": [
      "\n",
      "========================================================\n",
      " Results from Grid Search \n",
      "========================================================\n",
      "\n",
      " The best estimator across ALL searched params:\n",
      " RandomForestRegressor(bootstrap=True, ccp_alpha=0.0, criterion='mse',\n",
      "                      max_depth=None, max_features='sqrt', max_leaf_nodes=None,\n",
      "                      max_samples=None, min_impurity_decrease=0.0,\n",
      "                      min_impurity_split=None, min_samples_leaf=1,\n",
      "                      min_samples_split=2, min_weight_fraction_leaf=0.0,\n",
      "                      n_estimators=500, n_jobs=None, oob_score=False,\n",
      "                      random_state=None, verbose=0, warm_start=False)\n",
      "\n",
      " The best score across ALL searched params:\n",
      " 0.8507779881819797\n",
      "\n",
      " The best parameters across ALL searched params:\n",
      " {'max_depth': None, 'max_features': 'sqrt', 'min_samples_leaf': 1, 'min_samples_split': 2, 'n_estimators': 500}\n",
      "\n",
      " ========================================================\n"
     ]
    }
   ],
   "source": [
    "from sklearn import ensemble\n",
    "from sklearn.ensemble import RandomForestRegressor\n",
    "from pprint import pprint\n",
    "from sklearn.model_selection import train_test_split\n",
    "from sklearn.metrics import mean_squared_error\n",
    "from sklearn.model_selection import GridSearchCV\n",
    "\n",
    "X_train, X_test, y_train, y_test = train_test_split(features, target, test_size=0.25, random_state=1)\n",
    "\n",
    "## Random forest GridSearch\n",
    "from sklearn.model_selection import GridSearchCV\n",
    "from sklearn import ensemble\n",
    "from sklearn.ensemble import RandomForestRegressor\n",
    "from pprint import pprint\n",
    "from sklearn.model_selection import train_test_split\n",
    "from sklearn.metrics import mean_squared_error\n",
    "\n",
    "rfgs = RandomForestRegressor()\n",
    "parameters = {'max_depth': [10,50,None],\n",
    "              'max_features': ['auto','sqrt'],\n",
    "              'n_estimators' : [100,200,500],\n",
    "              'min_samples_split':[2,5,10],\n",
    "              'min_samples_leaf':[1,2,4]\n",
    "            }\n",
    "grid = GridSearchCV(estimator=rfgs, param_grid = parameters, cv = 5, n_jobs=-1)\n",
    "grid.fit(X_train, y_train)\n",
    "\n",
    "    # Results from Grid Search\n",
    "print(\"\\n========================================================\")\n",
    "print(\" Results from Grid Search \" )\n",
    "print(\"========================================================\")\n",
    "print(\"\\n The best estimator across ALL searched params:\\n\",\n",
    "          grid.best_estimator_)\n",
    "print(\"\\n The best score across ALL searched params:\\n\",\n",
    "          grid.best_score_)\n",
    "print(\"\\n The best parameters across ALL searched params:\\n\",\n",
    "          grid.best_params_)\n",
    "print(\"\\n ========================================================\")\n",
    "    \n",
    "\n"
   ]
  },
  {
   "cell_type": "code",
   "execution_count": 513,
   "metadata": {},
   "outputs": [
    {
     "name": "stdout",
     "output_type": "stream",
     "text": [
      "The Score on the  training data is 0.982\n",
      "The Score on the test data is 0.987\n"
     ]
    },
    {
     "data": {
      "text/plain": [
       "[('OverallQual', 0.1386063098046072),\n",
       " ('GrLivArea', 0.10767792323308285),\n",
       " ('TotalBsmtSF', 0.08722352848217357),\n",
       " ('GarageCars', 0.08049109682600127),\n",
       " ('ExterQual', 0.0707745224008944),\n",
       " ('YearBuilt', 0.06388665531843969),\n",
       " ('1stFlrSF', 0.05940947959155559),\n",
       " ('BsmtFinSF1', 0.043854919624452884),\n",
       " ('KitchenQual', 0.04019173267485133),\n",
       " ('2ndFlrSF', 0.0391570121986878),\n",
       " ('FullBath', 0.03264178938436624),\n",
       " ('LotArea', 0.03150758735304218),\n",
       " ('TotRmsAbvGrd', 0.026823992488229715),\n",
       " ('Fireplaces', 0.024266681570988553),\n",
       " ('OpenPorchSF', 0.01673097819213886),\n",
       " ('Neighborhood', 0.01457680496635224),\n",
       " ('Foundation', 0.013907966074964657),\n",
       " ('WoodDeckSF', 0.011729767730648861),\n",
       " ('HeatingQC', 0.008696137815709647),\n",
       " ('BedroomAbvGr', 0.00806978026155165),\n",
       " ('MoSold', 0.007359329230385401),\n",
       " ('HalfBath', 0.007335201308490207),\n",
       " ('OverallCond', 0.007157412713013397),\n",
       " ('Exterior1st', 0.005976629551563424),\n",
       " ('MSZoning', 0.005685460993371211),\n",
       " ('HouseStyle', 0.005403663320533028),\n",
       " ('BsmtFullBath', 0.005309364715832545),\n",
       " ('YrSold', 0.004034164708987347),\n",
       " ('LotShape', 0.003736987068872694),\n",
       " ('BldgType', 0.003319764442816387),\n",
       " ('LandContour', 0.0032185906379007248),\n",
       " ('LotConfig', 0.002554011210000179),\n",
       " ('ScreenPorch', 0.0025262582274470048),\n",
       " ('KitchenAbvGr', 0.0020537973391061546),\n",
       " ('Condition1', 0.002045813122044708),\n",
       " ('LandSlope', 0.0020375404784037966),\n",
       " ('EnclosedPorch', 0.0019628082318740234),\n",
       " ('PavedDrive', 0.001916928251181237),\n",
       " ('BsmtHalfBath', 0.0016150043846448305),\n",
       " ('ExterCond', 0.0015719178280422293),\n",
       " ('PoolArea', 0.0015688013024636987),\n",
       " ('LowQualFinSF', 0.0005496598390350274),\n",
       " ('3SsnPorch', 0.0004800376826220488),\n",
       " ('MiscVal', 0.0003561874186295954)]"
      ]
     },
     "execution_count": 513,
     "metadata": {},
     "output_type": "execute_result"
    }
   ],
   "source": [
    "## Revised Randomn Forest Regresssion Model \n",
    "import pandas as pd\n",
    "import numpy as np\n",
    "import matplotlib.pyplot as plt\n",
    "from sklearn.model_selection import train_test_split\n",
    "from sklearn import ensemble\n",
    "from sklearn.ensemble import RandomForestRegressor\n",
    "\n",
    "\n",
    "Rforest_1=RandomForestRegressor(bootstrap=True, ccp_alpha=0.0, criterion='mse',\n",
    "                      max_depth=None, max_features='sqrt', max_leaf_nodes=None,\n",
    "                      max_samples=None, min_impurity_decrease=0.0,\n",
    "                      min_impurity_split=None, min_samples_leaf=1,\n",
    "                      min_samples_split=2, min_weight_fraction_leaf=0.0,\n",
    "                      n_estimators=500, n_jobs=None, oob_score=False,\n",
    "                      random_state=None, verbose=0, warm_start=False)\n",
    "\n",
    "\n",
    "Rforest_1.fit(features,target)\n",
    "\n",
    "print('The Score on the  training data is %.3f' %(Rforest_1.score(X_train, y_train)))\n",
    "print('The Score on the test data is %.3f' %(Rforest_1.score(X_test, y_test)))\n",
    "sorted(zip(X_train.columns, Rforest_1.feature_importances_), key=lambda t:t[1], reverse=True)\n",
    "\n"
   ]
  },
  {
   "cell_type": "code",
   "execution_count": 482,
   "metadata": {},
   "outputs": [
    {
     "name": "stdout",
     "output_type": "stream",
     "text": [
      "The intercept is 1764731.9110\n",
      "The slopes are MSZoning        -761.241261  \n",
      "LotArea          0.452596    \n",
      "LotShape        -1249.027722 \n",
      "LandContour      3884.979427 \n",
      "LotConfig       -62.624721   \n",
      "LandSlope        6679.699746 \n",
      "Neighborhood     310.843423  \n",
      "Condition1      -668.159269  \n",
      "BldgType        -4953.965713 \n",
      "HouseStyle      -806.616131  \n",
      "OverallQual      13146.529312\n",
      "OverallCond      5354.995245 \n",
      "YearBuilt        334.544071  \n",
      "Exterior1st     -537.337348  \n",
      "ExterQual       -13931.468240\n",
      "ExterCond        1755.804705 \n",
      "Foundation       1225.461027 \n",
      "BsmtFinSF1       9.475112    \n",
      "TotalBsmtSF      6.426640    \n",
      "HeatingQC       -594.731061  \n",
      "1stFlrSF         15.645195   \n",
      "2ndFlrSF         6.336429    \n",
      "LowQualFinSF     1.000996    \n",
      "GrLivArea        22.982619   \n",
      "BsmtFullBath     5911.428879 \n",
      "BsmtHalfBath     3125.196320 \n",
      "FullBath         2843.843842 \n",
      "HalfBath         598.240001  \n",
      "BedroomAbvGr    -4575.010399 \n",
      "KitchenAbvGr    -8600.837495 \n",
      "KitchenQual     -10898.197543\n",
      "TotRmsAbvGrd     4993.593268 \n",
      "Fireplaces       4940.260047 \n",
      "GarageCars       10833.057524\n",
      "PavedDrive       517.508213  \n",
      "WoodDeckSF       37.924530   \n",
      "OpenPorchSF     -1.718918    \n",
      "EnclosedPorch    20.291510   \n",
      "3SsnPorch        12.573403   \n",
      "ScreenPorch      74.082845   \n",
      "PoolArea        -134.937694  \n",
      "MiscVal         -0.687472    \n",
      "MoSold          -198.432429  \n",
      "YrSold          -1202.532386 \n",
      "dtype: float64\n"
     ]
    }
   ],
   "source": [
    "## PENALIZED MODEL RIDGE REGRESSION\n",
    "\n",
    "from sklearn.linear_model import Ridge, Lasso, ElasticNet, LinearRegression\n",
    "ridge = Ridge()\n",
    "lasso = Lasso()\n",
    "\n",
    "from sklearn.model_selection import train_test_split\n",
    "X_train, X_test, y_train, y_test = train_test_split(features, target, test_size=0.25, random_state=1)\n",
    "\n",
    "\n",
    "\n",
    "ridge.set_params(alpha=45)\n",
    "ridge.fit(X_train, y_train)\n",
    "coefDF = pd.Series(ridge.coef_, index=test1.columns)\n",
    "print('The intercept is %.4f' %(ridge.intercept_))\n",
    "print('The slopes are %s' %(coefDF))"
   ]
  },
  {
   "cell_type": "code",
   "execution_count": 483,
   "metadata": {},
   "outputs": [
    {
     "name": "stdout",
     "output_type": "stream",
     "text": [
      "The training error is: 0.17666\n",
      "The test error is: 0.17563\n"
     ]
    }
   ],
   "source": [
    "\n",
    "print(\"The training error is: %.5f\" % (1 - ridge.score(X_train,y_train)))\n",
    "print(\"The test error is: %.5f\" % (1 - ridge.score(X_test,y_test)))\n"
   ]
  },
  {
   "cell_type": "code",
   "execution_count": 486,
   "metadata": {},
   "outputs": [
    {
     "name": "stdout",
     "output_type": "stream",
     "text": [
      "Ridge(alpha=59, copy_X=True, fit_intercept=True, max_iter=None, normalize=False,\n",
      "      random_state=None, solver='auto', tol=0.001)\n"
     ]
    }
   ],
   "source": [
    "from sklearn.linear_model import Ridge\n",
    "import numpy as np\n",
    "from sklearn.model_selection import GridSearchCV\n",
    "\n",
    "\n",
    "parameters = {'alpha':[59,60,61,62,63]}\n",
    "\n",
    "# define the model/ estimator\n",
    "ridge = Ridge()\n",
    "\n",
    "# define the grid search\n",
    "Ridge_rev= GridSearchCV(ridge, parameters, scoring='neg_mean_squared_error',cv=5)\n",
    "\n",
    "#fit the grid search\n",
    "Ridge_rev.fit(X_train,y_train)\n",
    "\n",
    "# best estimator\n",
    "print(Ridge_rev.best_estimator_)\n",
    "\n",
    "# best model\n",
    "best_model = Ridge_rev.best_estimator_\n"
   ]
  },
  {
   "cell_type": "code",
   "execution_count": 487,
   "metadata": {
    "scrolled": true
   },
   "outputs": [
    {
     "name": "stdout",
     "output_type": "stream",
     "text": [
      "The intercept is 1673170.9437\n",
      "The slopes are MSZoning        -719.913646  \n",
      "LotArea          0.466062    \n",
      "LotShape        -1256.836528 \n",
      "LandContour      3702.918643 \n",
      "LotConfig       -55.594223   \n",
      "LandSlope        5771.828660 \n",
      "Neighborhood     314.572459  \n",
      "Condition1      -643.951189  \n",
      "BldgType        -4924.466209 \n",
      "HouseStyle      -784.724412  \n",
      "OverallQual      13125.169001\n",
      "OverallCond      5328.013919 \n",
      "YearBuilt        347.733040  \n",
      "Exterior1st     -520.147017  \n",
      "ExterQual       -13441.517451\n",
      "ExterCond        1669.219435 \n",
      "Foundation       1162.606588 \n",
      "BsmtFinSF1       9.788130    \n",
      "TotalBsmtSF      6.611569    \n",
      "HeatingQC       -670.029859  \n",
      "1stFlrSF         15.750278   \n",
      "2ndFlrSF         6.489896    \n",
      "LowQualFinSF     1.347522    \n",
      "GrLivArea        23.587696   \n",
      "BsmtFullBath     5440.421058 \n",
      "BsmtHalfBath     2651.650455 \n",
      "FullBath         2526.142424 \n",
      "HalfBath         499.120708  \n",
      "BedroomAbvGr    -4497.889169 \n",
      "KitchenAbvGr    -7360.587221 \n",
      "KitchenQual     -10827.050714\n",
      "TotRmsAbvGrd     4828.472342 \n",
      "Fireplaces       4833.647614 \n",
      "GarageCars       10490.687879\n",
      "PavedDrive       496.240854  \n",
      "WoodDeckSF       38.426784   \n",
      "OpenPorchSF     -1.097730    \n",
      "EnclosedPorch    21.028667   \n",
      "3SsnPorch        13.109955   \n",
      "ScreenPorch      75.235352   \n",
      "PoolArea        -136.131641  \n",
      "MiscVal         -0.735468    \n",
      "MoSold          -193.849522  \n",
      "YrSold          -1170.473406 \n",
      "dtype: float64\n",
      "The training error is: 0.17719\n",
      "The test error is: 0.17450\n"
     ]
    }
   ],
   "source": [
    "from sklearn.linear_model import Ridge, Lasso, ElasticNet, LinearRegression\n",
    "ridge = Ridge()\n",
    "\n",
    "\n",
    "ridge.set_params(alpha=59)\n",
    "ridge.fit(X_train, y_train)\n",
    "coefDF = pd.Series(ridge.coef_, index=test1.columns)\n",
    "print('The intercept is %.4f' %(ridge.intercept_))\n",
    "print('The slopes are %s' %(coefDF))\n",
    "\n",
    "print(\"The training error is: %.5f\" % (1 - ridge.score(X_train,y_train)))\n",
    "print(\"The test error is: %.5f\" % (1 - ridge.score(X_test,y_test)))"
   ]
  },
  {
   "cell_type": "code",
   "execution_count": 522,
   "metadata": {},
   "outputs": [
    {
     "name": "stdout",
     "output_type": "stream",
     "text": [
      "The training Score is: 0.99958\n",
      "The test Score is: 0.91529\n"
     ]
    }
   ],
   "source": [
    "# XGB Boosting Machine Learning Algorithm\n",
    "\n",
    "import xgboost as xgb\n",
    "import pandas as pd\n",
    "import numpy as np\n",
    "import statsmodels.api as sm\n",
    "from sklearn.model_selection import train_test_split\n",
    "from sklearn.model_selection import GridSearchCV\n",
    "from sklearn.metrics import mean_squared_error\n",
    "import matplotlib.pyplot as plt\n",
    "\n",
    "X_train, X_test, y_train, y_test = train_test_split(features, target, test_size=0.25, random_state=1)\n",
    "\n",
    "\n",
    "DM_train = xgb.DMatrix(data = X_train, \n",
    "                       label = y_train)\n",
    "\n",
    "DM_test =  xgb.DMatrix(data = X_test,\n",
    "                       label = y_test)\n",
    "XGB=xgb.XGBRegressor()\n",
    "xgboost=XGB.fit(X_train,y_train)\n",
    "print(\"The training Score is: %.5f\" % (xgboost.score(X_train,y_train)))\n",
    "print(\"The test Score is: %.5f\" % (xgboost.score(X_test,y_test)))"
   ]
  },
  {
   "cell_type": "code",
   "execution_count": 526,
   "metadata": {},
   "outputs": [
    {
     "data": {
      "text/plain": [
       "array([0.87249273, 0.82699026, 0.79097786, 0.85860529, 0.89877748])"
      ]
     },
     "execution_count": 526,
     "metadata": {},
     "output_type": "execute_result"
    }
   ],
   "source": [
    "from statistics import mean\n",
    "from sklearn.model_selection import cross_val_score\n",
    "scores = cross_val_score(xgboost, X_train, y_train, cv=5)\n",
    "scores"
   ]
  },
  {
   "cell_type": "code",
   "execution_count": 462,
   "metadata": {},
   "outputs": [
    {
     "data": {
      "text/plain": [
       "0.8495687236357028"
      ]
     },
     "execution_count": 462,
     "metadata": {},
     "output_type": "execute_result"
    }
   ],
   "source": [
    "## CROSS VALIDATION SCORE FOR XGBOOST MODEL\n",
    "\n",
    "from statistics import mean\n",
    "from sklearn.model_selection import cross_val_score\n",
    "scores = cross_val_score(xgboost, X_train, y_train, cv=5)\n",
    "mean(scores)"
   ]
  },
  {
   "cell_type": "code",
   "execution_count": 20,
   "metadata": {},
   "outputs": [],
   "source": [
    "# Grid Search for XGBoost\n",
    "gbm_param_grid = {\n",
    "     'colsample_bytree': np.linspace(0.5, 0.9, 5),\n",
    "     'n_estimators':[100, 200],\n",
    "     'max_depth': [10, 15, 20, 25]\n",
    "}"
   ]
  },
  {
   "cell_type": "code",
   "execution_count": 182,
   "metadata": {},
   "outputs": [
    {
     "name": "stdout",
     "output_type": "stream",
     "text": [
      "Fitting 5 folds for each of 40 candidates, totalling 200 fits\n"
     ]
    },
    {
     "name": "stderr",
     "output_type": "stream",
     "text": [
      "[Parallel(n_jobs=1)]: Using backend SequentialBackend with 1 concurrent workers.\n",
      "[Parallel(n_jobs=1)]: Done 200 out of 200 | elapsed:  2.6min finished\n"
     ]
    },
    {
     "name": "stdout",
     "output_type": "stream",
     "text": [
      "\n",
      "========================================================\n",
      " Results from Grid Search \n",
      "========================================================\n",
      "\n",
      " The best estimator across ALL searched params:\n",
      " XGBRegressor(base_score=0.5, booster='gbtree', colsample_bylevel=1,\n",
      "             colsample_bynode=1, colsample_bytree=0.9, gamma=0, gpu_id=-1,\n",
      "             importance_type='gain', interaction_constraints='',\n",
      "             learning_rate=0.300000012, max_delta_step=0, max_depth=20,\n",
      "             min_child_weight=1, missing=nan, monotone_constraints='()',\n",
      "             n_estimators=200, n_jobs=0, num_parallel_tree=1,\n",
      "             objective='reg:squarederror', random_state=0, reg_alpha=0,\n",
      "             reg_lambda=1, scale_pos_weight=1, subsample=1, tree_method='exact',\n",
      "             validate_parameters=1, verbosity=None)\n",
      "\n",
      " The best score across ALL searched params:\n",
      " 0.8394401650369986\n",
      "\n",
      " The best parameters across ALL searched params:\n",
      " {'colsample_bytree': 0.9, 'max_depth': 20, 'n_estimators': 200}\n",
      "\n",
      " ========================================================\n"
     ]
    }
   ],
   "source": [
    "XGB = xgb.XGBRegressor()\n",
    "\n",
    "X_train, X_test, y_train, y_test = train_test_split(features, target, test_size=0.25, random_state=1)\n",
    "\n",
    "grid_mse = GridSearchCV(estimator = XGB, param_grid = gbm_param_grid, cv = 5, verbose = 1)\n",
    "xgb_rev1=grid_mse.fit(X_train, y_train)\n",
    "\n",
    "    # Results from Grid Search\n",
    "print(\"\\n========================================================\")\n",
    "print(\" Results from Grid Search \" )\n",
    "print(\"========================================================\")\n",
    "print(\"\\n The best estimator across ALL searched params:\\n\",\n",
    "          grid_mse.best_estimator_)\n",
    "print(\"\\n The best score across ALL searched params:\\n\",\n",
    "          grid_mse.best_score_)\n",
    "print(\"\\n The best parameters across ALL searched params:\\n\",\n",
    "          grid_mse.best_params_)\n",
    "print(\"\\n ========================================================\")"
   ]
  },
  {
   "cell_type": "code",
   "execution_count": 529,
   "metadata": {},
   "outputs": [
    {
     "name": "stdout",
     "output_type": "stream",
     "text": [
      "The Score on the  training data is 1.000\n",
      "The Score on the test data is 0.907\n"
     ]
    },
    {
     "data": {
      "text/plain": [
       "[('OverallQual', 0.4569351),\n",
       " ('GarageCars', 0.12378678),\n",
       " ('KitchenAbvGr', 0.08958295),\n",
       " ('ExterQual', 0.08224389),\n",
       " ('GrLivArea', 0.061312966),\n",
       " ('1stFlrSF', 0.02365399),\n",
       " ('FullBath', 0.023488015),\n",
       " ('LandContour', 0.015043778),\n",
       " ('TotalBsmtSF', 0.013282862),\n",
       " ('BsmtFinSF1', 0.011064314),\n",
       " ('YearBuilt', 0.0076647224),\n",
       " ('LowQualFinSF', 0.0075469282),\n",
       " ('BedroomAbvGr', 0.0075029093),\n",
       " ('KitchenQual', 0.0072634965),\n",
       " ('2ndFlrSF', 0.0070559345),\n",
       " ('TotRmsAbvGrd', 0.006316342),\n",
       " ('PoolArea', 0.0056362436),\n",
       " ('OverallCond', 0.0055306917),\n",
       " ('Neighborhood', 0.0052472055),\n",
       " ('BsmtFullBath', 0.005224958),\n",
       " ('WoodDeckSF', 0.0040207235),\n",
       " ('OpenPorchSF', 0.003678267),\n",
       " ('Exterior1st', 0.0032144787),\n",
       " ('MSZoning', 0.0029720983),\n",
       " ('HalfBath', 0.0020803304),\n",
       " ('LotArea', 0.001789363),\n",
       " ('ExterCond', 0.0017022477),\n",
       " ('EnclosedPorch', 0.0014741608),\n",
       " ('PavedDrive', 0.0014479592),\n",
       " ('Condition1', 0.0014275353),\n",
       " ('MoSold', 0.0012922045),\n",
       " ('LotShape', 0.001211433),\n",
       " ('Fireplaces', 0.0009858566),\n",
       " ('Foundation', 0.0008912244),\n",
       " ('LandSlope', 0.0008836248),\n",
       " ('3SsnPorch', 0.00088101),\n",
       " ('BldgType', 0.00084298104),\n",
       " ('ScreenPorch', 0.00072847493),\n",
       " ('LotConfig', 0.0006783902),\n",
       " ('HeatingQC', 0.0006568293),\n",
       " ('MiscVal', 0.00059854455),\n",
       " ('HouseStyle', 0.0005906593),\n",
       " ('YrSold', 0.0005029754),\n",
       " ('BsmtHalfBath', 6.4586624e-05)]"
      ]
     },
     "execution_count": 529,
     "metadata": {},
     "output_type": "execute_result"
    }
   ],
   "source": [
    "import xgboost as xgb\n",
    "import pandas as pd\n",
    "import numpy as np\n",
    "import statsmodels.api as sm\n",
    "from sklearn.model_selection import train_test_split\n",
    "from sklearn.metrics import mean_squared_error\n",
    "xgb.XGBRegressor()\n",
    "\n",
    "\n",
    "XGBrev_1 = xgb.XGBRegressor(base_score=0.5, booster='gbtree', colsample_bylevel=1,\n",
    "             colsample_bynode=1, colsample_bytree=0.9, gamma=0, gpu_id=-1,\n",
    "             importance_type='gain', interaction_constraints='',\n",
    "             learning_rate=0.300000012, max_delta_step=0, max_depth=20,\n",
    "             min_child_weight=1, monotone_constraints='()',\n",
    "             n_estimators=200, n_jobs=0, num_parallel_tree=1,\n",
    "             objective='reg:squarederror', random_state=0, reg_alpha=0,\n",
    "             reg_lambda=1, scale_pos_weight=1, subsample=1, tree_method='exact',\n",
    "             validate_parameters=1, verbosity=None)\n",
    "XGBrev_1.fit(X_train,y_train)\n",
    "\n",
    "print('The Score on the  training data is %.3f' %(XGBrev_1.score(X_train, y_train)))\n",
    "print('The Score on the test data is %.3f' %(XGBrev_1.score(X_test, y_test)))\n",
    "sorted(zip(X_train.columns, XGBrev_1.feature_importances_), key=lambda t:t[1], reverse=True)"
   ]
  },
  {
   "cell_type": "code",
   "execution_count": 531,
   "metadata": {},
   "outputs": [
    {
     "data": {
      "text/plain": [
       "array([0.87160822, 0.84076335, 0.77042395, 0.8128964 , 0.90150892])"
      ]
     },
     "execution_count": 531,
     "metadata": {},
     "output_type": "execute_result"
    }
   ],
   "source": [
    "from statistics import mean\n",
    "from sklearn.model_selection import cross_val_score\n",
    "scores = cross_val_score(XGBrev_1, X_train, y_train, cv=5)\n",
    "scores"
   ]
  },
  {
   "cell_type": "code",
   "execution_count": 473,
   "metadata": {},
   "outputs": [],
   "source": [
    "import pandas as pd\n",
    "\n",
    "my_submission.to_csv('/Users/fargnoli/Desktop/boston/submission.csv', index = False)\n",
    "\n",
    "my_submission = pd.DataFrame({'Id': test.index, 'SalePrice': XGBrev_1.predict(test1) })\n",
    "\n",
    "\n"
   ]
  },
  {
   "cell_type": "code",
   "execution_count": 475,
   "metadata": {},
   "outputs": [],
   "source": [
    "import pandas as pd\n",
    "my_submission_2 = pd.DataFrame({'Id': test.index, 'SalePrice': gbmrev_1.predict(test1) })\n",
    "my_submission_2.to_csv('/Users/fargnoli/Desktop/boston/submission2.csv', index = False)\n",
    "\n"
   ]
  },
  {
   "cell_type": "code",
   "execution_count": 476,
   "metadata": {},
   "outputs": [],
   "source": [
    "import pandas as pd\n",
    "my_submission_3 = pd.DataFrame({'Id': test.index, 'SalePrice': tree_model.predict(test1) })\n",
    "my_submission_3.to_csv('/Users/fargnoli/Desktop/boston/submission3.csv', index = False)"
   ]
  },
  {
   "cell_type": "code",
   "execution_count": 502,
   "metadata": {},
   "outputs": [],
   "source": [
    "import pandas as pd\n",
    "my_submission_4 = pd.DataFrame({'Id': test.index, 'SalePrice': Rforest_1.predict(test1) })\n",
    "my_submission_4.to_csv('/Users/fargnoli/Desktop/boston/submission4.csv', index = False)"
   ]
  },
  {
   "cell_type": "code",
   "execution_count": 508,
   "metadata": {},
   "outputs": [
    {
     "data": {
      "text/plain": [
       "0.8478561685510088"
      ]
     },
     "execution_count": 508,
     "metadata": {},
     "output_type": "execute_result"
    }
   ],
   "source": [
    "from statistics import mean\n",
    "from sklearn.model_selection import cross_val_score\n",
    "scores = cross_val_score(Rforest_1, X_train, y_train, cv=5)\n",
    "mean(scores)"
   ]
  }
 ],
 "metadata": {
  "kernelspec": {
   "display_name": "Python 3",
   "language": "python",
   "name": "python3"
  },
  "language_info": {
   "codemirror_mode": {
    "name": "ipython",
    "version": 3
   },
   "file_extension": ".py",
   "mimetype": "text/x-python",
   "name": "python",
   "nbconvert_exporter": "python",
   "pygments_lexer": "ipython3",
   "version": "3.7.6"
  }
 },
 "nbformat": 4,
 "nbformat_minor": 4
}
